{
 "cells": [
  {
   "cell_type": "code",
   "execution_count": 47,
   "id": "59b9be22-851b-46be-bda5-de9479bbea92",
   "metadata": {},
   "outputs": [],
   "source": [
    "# RagPipeline"
   ]
  },
  {
   "cell_type": "code",
   "execution_count": 48,
   "id": "5342bd6d-a8f9-42e5-ba65-314db963b969",
   "metadata": {},
   "outputs": [],
   "source": [
    "text = \"\"\"\n",
    "Dear Sir/Ma’am,\n",
    "Thank you for agreeing to provide a technical review of our book “Ultimate Python coding”.\n",
    "This letter of understanding summarizes our agreement.\n",
    "As a thank you, we will recognize your contribution by\n",
    "1. Crediting you as a reviewer in relevant published materials.\n",
    "2. Sending you a complimentary print copy of the work\n",
    "We request that you help us promote the book by writing an honest review, and\n",
    "acknowledging your involvement in the project, on Amazon.com.\n",
    "In exchange, we request that, for each chapter, you review the materials for accuracy,\n",
    "relevance, and clarity by inserting comments directly into the documents. There may be\n",
    "multiple iterations of certain chapters, based on your feedback.\n",
    "While performing the review, we ask that you:\n",
    "1. Adhere to the deadlines agreed upon with us\n",
    "2. Insert detailed, self-explanatory comments (adopt an evidence-based approach)\n",
    "3. Check for content accuracy, relevance, flow, gaps\n",
    "4. Provide constructive, practical solutions, where possible\n",
    "5. Test all instructions and code snippets to ensure they work as described and that the\n",
    "instructions themselves are clear and direct. Provide screenshots of the final output,\n",
    "and if the codes don’t work expected, please explain the issue and, if possible, help to\n",
    "diagnose the problem and recommend a solution.\n",
    "6. Check that the Q&A questions are accurate and can be answered using the\n",
    "information in the chapter.\n",
    "7. Review and sign off all content shared for review within 3 working days, to ensure\n",
    "that the technical accuracy of the final product meets industry standards and best\n",
    "practices.\n",
    "8. Write a comprehensive Summary Comment for each chapter.\n",
    "9. You need to also ensure that the unpublished manuscript is not accidentally/or\n",
    "otherwise shared with anyone online or outside the book project team.\n",
    "10. The Reviewer agrees to enter into a Non-Disclosure agreement till the time of\n",
    "completing the project as mentioned in the contract or as decided by the publisher.\n",
    "Reviewer will not share the work, draft manuscript, project idea or details of the\n",
    "associated members on the project till the work is published with any member who is\n",
    "not part of the publishing company Green Education Private Limited.\n",
    "Please sign and date this letter to indicate that you’ve read and understood our terms and\n",
    "conditions. \n",
    "\"\"\""
   ]
  },
  {
   "cell_type": "code",
   "execution_count": 49,
   "id": "6558803d-4284-4d16-a9b4-da2c1bca7fe7",
   "metadata": {},
   "outputs": [],
   "source": [
    "from langchain.text_splitter import RecursiveCharacterTextSplitter"
   ]
  },
  {
   "cell_type": "code",
   "execution_count": 50,
   "id": "2c03f4b4-e1df-4a69-aedc-d67d277a1139",
   "metadata": {},
   "outputs": [],
   "source": [
    "splitter = RecursiveCharacterTextSplitter(chunk_size=100, chunk_overlap=2)\n",
    "chunks = splitter.split_text(text)\n"
   ]
  },
  {
   "cell_type": "code",
   "execution_count": 51,
   "id": "67916904-a5b3-4c9a-9b88-73443ba01864",
   "metadata": {},
   "outputs": [
    {
     "name": "stdout",
     "output_type": "stream",
     "text": [
      "['Dear Sir/Ma’am,', 'Thank you for agreeing to provide a technical review of our book “Ultimate Python coding”.', 'This letter of understanding summarizes our agreement.', 'As a thank you, we will recognize your contribution by', '1. Crediting you as a reviewer in relevant published materials.', '2. Sending you a complimentary print copy of the work', 'We request that you help us promote the book by writing an honest review, and', 'acknowledging your involvement in the project, on Amazon.com.', 'In exchange, we request that, for each chapter, you review the materials for accuracy,', 'relevance, and clarity by inserting comments directly into the documents. There may be', 'multiple iterations of certain chapters, based on your feedback.', 'While performing the review, we ask that you:\\n1. Adhere to the deadlines agreed upon with us', '2. Insert detailed, self-explanatory comments (adopt an evidence-based approach)', '3. Check for content accuracy, relevance, flow, gaps', '4. Provide constructive, practical solutions, where possible', '5. Test all instructions and code snippets to ensure they work as described and that the', 'instructions themselves are clear and direct. Provide screenshots of the final output,', 'and if the codes don’t work expected, please explain the issue and, if possible, help to', 'diagnose the problem and recommend a solution.', '6. Check that the Q&A questions are accurate and can be answered using the', 'information in the chapter.', '7. Review and sign off all content shared for review within 3 working days, to ensure', 'that the technical accuracy of the final product meets industry standards and best\\npractices.', '8. Write a comprehensive Summary Comment for each chapter.', '9. You need to also ensure that the unpublished manuscript is not accidentally/or', 'otherwise shared with anyone online or outside the book project team.', '10. The Reviewer agrees to enter into a Non-Disclosure agreement till the time of', 'completing the project as mentioned in the contract or as decided by the publisher.', 'Reviewer will not share the work, draft manuscript, project idea or details of the', 'associated members on the project till the work is published with any member who is', 'not part of the publishing company Green Education Private Limited.', 'Please sign and date this letter to indicate that you’ve read and understood our terms and', 'conditions.']\n"
     ]
    }
   ],
   "source": [
    "print(chunks)"
   ]
  },
  {
   "cell_type": "code",
   "execution_count": 52,
   "id": "e418c8db-5a9c-45ec-8b0f-d191366b2f7b",
   "metadata": {},
   "outputs": [],
   "source": [
    "from langchain_huggingface import HuggingFaceEmbeddings\n",
    "\n",
    "# Generate embeddings\n",
    "embedding_model = HuggingFaceEmbeddings(model_name=\"sentence-transformers/all-MiniLM-L6-v2\")\n",
    "embeddings = embedding_model.embed_documents(chunks)"
   ]
  },
  {
   "cell_type": "code",
   "execution_count": 53,
   "id": "30157002-dbef-4c95-9d72-cac081739033",
   "metadata": {},
   "outputs": [],
   "source": [
    "query = \"what is timeline for Review?\"\n",
    "\n",
    "query_embedding = embedding_model.embed_query(query)"
   ]
  },
  {
   "cell_type": "code",
   "execution_count": 54,
   "id": "6591727f-4bcb-46cb-8eac-3bbbe425efbb",
   "metadata": {},
   "outputs": [],
   "source": [
    "import numpy as np\n",
    "\n",
    "# Reshape query embedding to 2D array\n",
    "query_embedding = np.array(query_embedding).reshape(1, -1)"
   ]
  },
  {
   "cell_type": "code",
   "execution_count": 55,
   "id": "0fd6c112-bcfd-4bbc-8369-994a3e343ea1",
   "metadata": {},
   "outputs": [
    {
     "name": "stdout",
     "output_type": "stream",
     "text": [
      "[[ 0.03266935  0.13393293  0.15201281  0.1086706   0.40118347  0.22066552\n",
      "   0.37674001  0.22177393  0.37278278  0.20967309  0.30508238  0.57256416\n",
      "   0.17492386  0.31051151  0.10461181  0.09613794  0.07856338 -0.00109648\n",
      "   0.10392228  0.20007482  0.24017078  0.42282005  0.23736496  0.26912292\n",
      "   0.2545294   0.09558153  0.48765342  0.25978767  0.33585961  0.14699468\n",
      "   0.07840793  0.22755124  0.19748078]]\n"
     ]
    }
   ],
   "source": [
    "from sklearn.metrics.pairwise import cosine_similarity\n",
    "\n",
    "# Compute similarity between query and all KB vectors\n",
    "similarity_scores = cosine_similarity(query_embedding, embeddings)\n",
    "print(similarity_scores)\n",
    "# Sort based on similarity scores (highest to lowest)\n",
    "# top_k_indices = similarity_scores[0].argsort()[::-1]  \n",
    "\n",
    "# print(top_k_indices)"
   ]
  },
  {
   "cell_type": "code",
   "execution_count": 56,
   "id": "c231f6e5-1849-4b65-9ba1-9dfd1dd1647a",
   "metadata": {},
   "outputs": [
    {
     "name": "stdout",
     "output_type": "stream",
     "text": [
      "Score: 0.5726 -> While performing the review, we ask that you:\n",
      "1. Adhere to the deadlines agreed upon with us\n",
      "Score: 0.4877 -> 10. The Reviewer agrees to enter into a Non-Disclosure agreement till the time of\n",
      "Score: 0.4228 -> 7. Review and sign off all content shared for review within 3 working days, to ensure\n"
     ]
    }
   ],
   "source": [
    "# Get the top 3 most relevant chunks\n",
    "top_k_indices = similarity_scores[0].argsort()[::-1]\n",
    "\n",
    "# Print the top matching chunks\n",
    "top_k = 3\n",
    "for i in top_k_indices[:top_k]:\n",
    "    print(f\"Score: {similarity_scores[0][i]:.4f} -> {chunks[i]}\")\n"
   ]
  },
  {
   "cell_type": "code",
   "execution_count": null,
   "id": "e3fd7c6f-441f-4800-9c81-173613415613",
   "metadata": {},
   "outputs": [],
   "source": []
  }
 ],
 "metadata": {
  "kernelspec": {
   "display_name": "Python 3 (ipykernel)",
   "language": "python",
   "name": "python3"
  },
  "language_info": {
   "codemirror_mode": {
    "name": "ipython",
    "version": 3
   },
   "file_extension": ".py",
   "mimetype": "text/x-python",
   "name": "python",
   "nbconvert_exporter": "python",
   "pygments_lexer": "ipython3",
   "version": "3.10.0"
  }
 },
 "nbformat": 4,
 "nbformat_minor": 5
}
